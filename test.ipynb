{
 "cells": [
  {
   "cell_type": "code",
   "execution_count": 4,
   "metadata": {},
   "outputs": [],
   "source": [
    "import pgl"
   ]
  },
  {
   "cell_type": "code",
   "execution_count": 1,
   "metadata": {},
   "outputs": [
    {
     "name": "stderr",
     "output_type": "stream",
     "text": [
      "/home/zhaohuanjing/anaconda3/envs/th19cu111/lib/python3.7/site-packages/tqdm/auto.py:22: TqdmWarning: IProgress not found. Please update jupyter and ipywidgets. See https://ipywidgets.readthedocs.io/en/stable/user_install.html\n",
      "  from .autonotebook import tqdm as notebook_tqdm\n"
     ]
    },
    {
     "data": {
      "text/plain": [
       "(Data(x=[2708, 1433], edge_index=[2, 10556], y=[2708], train_mask=[2708], val_mask=[2708], test_mask=[2708]),\n",
       " None)"
      ]
     },
     "execution_count": 1,
     "metadata": {},
     "output_type": "execute_result"
    }
   ],
   "source": [
    "import torch\n",
    "torch.load('/data/zhaohuanjing/mag/dataset_path/pyg/planetoid/cora/processed/data.pt')"
   ]
  },
  {
   "cell_type": "code",
   "execution_count": 18,
   "metadata": {},
   "outputs": [
    {
     "data": {
      "text/plain": [
       "tensor([1, 2, 3, 4, 5, 6])"
      ]
     },
     "execution_count": 18,
     "metadata": {},
     "output_type": "execute_result"
    }
   ],
   "source": [
    "from inspect import stack\n",
    "import torch as th\n",
    "aa = th.tensor([[1,2,3],[4,5,6]])\n",
    "aa.flatten()\n",
    "\n",
    "# aa.view(6"
   ]
  },
  {
   "cell_type": "code",
   "execution_count": 2,
   "metadata": {},
   "outputs": [
    {
     "data": {
      "text/plain": [
       "[0, 2, 4, 6, 8]"
      ]
     },
     "execution_count": 2,
     "metadata": {},
     "output_type": "execute_result"
    }
   ],
   "source": [
    "list(range(0,10,2))"
   ]
  },
  {
   "cell_type": "code",
   "execution_count": 3,
   "metadata": {},
   "outputs": [
    {
     "name": "stderr",
     "output_type": "stream",
     "text": [
      "100%|██████████| 5/5 [00:00<00:00, 47021.35it/s]"
     ]
    },
    {
     "name": "stdout",
     "output_type": "stream",
     "text": [
      "0\n",
      "20\n",
      "40\n",
      "60\n",
      "80\n"
     ]
    },
    {
     "name": "stderr",
     "output_type": "stream",
     "text": [
      "\n"
     ]
    }
   ],
   "source": [
    "import tqdm\n",
    "with tqdm.trange(0,100, 20) as tq: #几列几列的取features\n",
    "    for start in tq:\n",
    "        print(start)"
   ]
  },
  {
   "cell_type": "code",
   "execution_count": 1,
   "metadata": {},
   "outputs": [
    {
     "name": "stderr",
     "output_type": "stream",
     "text": [
      "/home/zhaohuanjing/anaconda3/envs/th19cu111/lib/python3.7/site-packages/tqdm/auto.py:22: TqdmWarning: IProgress not found. Please update jupyter and ipywidgets. See https://ipywidgets.readthedocs.io/en/stable/user_install.html\n",
      "  from .autonotebook import tqdm as notebook_tqdm\n"
     ]
    },
    {
     "data": {
      "text/plain": [
       "tensor([0, 1])"
      ]
     },
     "execution_count": 1,
     "metadata": {},
     "output_type": "execute_result"
    }
   ],
   "source": [
    "import torch \n",
    "aa = torch.tensor([-1,0,1,-1,-1])\n",
    "aa[aa>=0]"
   ]
  },
  {
   "cell_type": "code",
   "execution_count": 10,
   "metadata": {},
   "outputs": [
    {
     "name": "stdout",
     "output_type": "stream",
     "text": [
      "tensor([[0, 2],\n",
      "        [0, 2],\n",
      "        [0, 0],\n",
      "        [1, 4],\n",
      "        [1, 1],\n",
      "        [1, 4]])\n",
      "tensor([[0, 2],\n",
      "        [0, 2],\n",
      "        [1, 4],\n",
      "        [1, 4]])\n"
     ]
    }
   ],
   "source": [
    "import torch as th\n",
    "import dgl\n",
    "graph_data = {\n",
    "   ('A', 'AP', 'P'): (th.tensor([0, 0, 1, 1, 2, 2, 3]), th.tensor([0, 2, 1, 4, 5, 1, 3])),\n",
    "   ('P', 'PA', 'A'): (th.tensor([0, 2, 1, 4, 5, 1, 3]), th.tensor([0, 0, 1, 1, 2, 2, 3])),\n",
    "   ('A', 'AI', 'I'): (th.tensor([0, 1]), th.tensor([0, 1])),\n",
    "   ('I', 'IA', 'A'): (th.tensor([0, 1]), th.tensor([0, 1])),\n",
    "   ('P', 'PP1', 'P'): (th.tensor([0, 0, 1]), th.tensor([1, 2, 2])),\n",
    "   ('P', 'PP2', 'P'): (th.tensor([1, 2, 2]), th.tensor([0, 0, 1]))\n",
    "}\n",
    "g = dgl.heterograph(graph_data)\n",
    "traces, _ = dgl.sampling.random_walk(g, [0, 0, 0, 1, 1, 1], metapath=[('A', 'AP', 'P')])\n",
    "print(traces)\n",
    "traces = traces[traces[:, 0] != traces[:, -1]]\n",
    "print(traces)\n",
    "# traces[:, 0] != traces[:, -1]"
   ]
  },
  {
   "cell_type": "code",
   "execution_count": 11,
   "metadata": {},
   "outputs": [
    {
     "data": {
      "text/plain": [
       "(tensor([0, 1, 1]), tensor([0, 1, 2]))"
      ]
     },
     "execution_count": 11,
     "metadata": {},
     "output_type": "execute_result"
    }
   ],
   "source": [
    "g.out_edges([0,1], form='uv', etype=('P', 'PA', 'A'))"
   ]
  },
  {
   "cell_type": "code",
   "execution_count": 15,
   "metadata": {},
   "outputs": [
    {
     "name": "stdout",
     "output_type": "stream",
     "text": [
      "0 2\n",
      "0 2\n",
      "0 2\n",
      "1 4\n",
      "1 4\n"
     ]
    }
   ],
   "source": [
    "for sid, *_, did in traces.numpy():\n",
    "    print(sid, did)"
   ]
  },
  {
   "cell_type": "code",
   "execution_count": 19,
   "metadata": {},
   "outputs": [
    {
     "name": "stdout",
     "output_type": "stream",
     "text": [
      "{1: array([1, 2, 3]), 2: array([4, 5, 6])}\n"
     ]
    }
   ],
   "source": [
    "import numpy as np\n",
    "m = {1:[1,2,3], 2:[4,5,6]}\n",
    "mapper = {i: np.array(j) for i, j in m.items()}\n",
    "print(mapper)"
   ]
  },
  {
   "cell_type": "code",
   "execution_count": 23,
   "metadata": {},
   "outputs": [
    {
     "data": {
      "text/plain": [
       "array([[0., 0., 0., 0.],\n",
       "       [2., 2., 2., 2.]])"
      ]
     },
     "execution_count": 23,
     "metadata": {},
     "output_type": "execute_result"
    }
   ],
   "source": [
    "import numpy as np\n",
    "aa = np.zeros([2,4])\n",
    "aa[1,:] = 2\n",
    "aa"
   ]
  },
  {
   "cell_type": "code",
   "execution_count": 8,
   "metadata": {},
   "outputs": [
    {
     "data": {
      "text/plain": [
       "torch.Size([5, 6])"
      ]
     },
     "execution_count": 8,
     "metadata": {},
     "output_type": "execute_result"
    }
   ],
   "source": [
    "import torch\n",
    "aa = torch.randn((5,2,3))\n",
    "aa.flatten(1,-1).shape"
   ]
  },
  {
   "cell_type": "code",
   "execution_count": 5,
   "metadata": {},
   "outputs": [
    {
     "data": {
      "text/plain": [
       "array([1, 2, 3, 4, 5, 6])"
      ]
     },
     "execution_count": 5,
     "metadata": {},
     "output_type": "execute_result"
    }
   ],
   "source": [
    "import numpy as np\n",
    "aa = np.array([1,2,3])\n",
    "bb = np.array([4,5,6])\n",
    "np.concatenate((aa,bb), axis=0)"
   ]
  },
  {
   "cell_type": "code",
   "execution_count": 7,
   "metadata": {},
   "outputs": [
    {
     "name": "stdout",
     "output_type": "stream",
     "text": [
      "[1, 2, 3]\n"
     ]
    }
   ],
   "source": [
    "def plus(aa):\n",
    "    for ii in range(len(aa)):\n",
    "        bb = aa[ii]\n",
    "        bb+=1\n",
    "    # return aa\n",
    "\n",
    "aa = [1,2,3]\n",
    "\n",
    "plus(aa)\n",
    "print(aa)"
   ]
  },
  {
   "cell_type": "code",
   "execution_count": 22,
   "metadata": {},
   "outputs": [
    {
     "name": "stdout",
     "output_type": "stream",
     "text": [
      "torch.Size([3, 2, 4])\n",
      "tensor([[[1., 2., 3., 4.],\n",
      "         [5., 6., 7., 8.]],\n",
      "\n",
      "        [[1., 2., 3., 4.],\n",
      "         [5., 6., 7., 8.]],\n",
      "\n",
      "        [[1., 2., 3., 4.],\n",
      "         [5., 6., 7., 8.]]])\n",
      "tensor([[ 3.,  6.,  9., 12.],\n",
      "        [15., 18., 21., 24.]])\n"
     ]
    },
    {
     "data": {
      "text/plain": [
       "tensor([[1., 2., 3., 4.],\n",
       "        [5., 6., 7., 8.]])"
      ]
     },
     "execution_count": 22,
     "metadata": {},
     "output_type": "execute_result"
    }
   ],
   "source": [
    "import torch\n",
    "aa = torch.Tensor([[1,2,3,4],[5,6,7,8]])\n",
    "aa = torch.stack([aa,aa,aa],0)\n",
    "\n",
    "print(aa.shape)\n",
    "print(aa)\n",
    "aa = aa.sum(dim=0)\n",
    "print(aa)\n",
    "aa/3"
   ]
  },
  {
   "cell_type": "code",
   "execution_count": 107,
   "metadata": {},
   "outputs": [
    {
     "name": "stdout",
     "output_type": "stream",
     "text": [
      "(tensor([0, 0, 1]), tensor([1, 2, 2]))\n",
      "(tensor([1, 2, 2]), tensor([0, 0, 1]))\n"
     ]
    },
    {
     "data": {
      "text/plain": [
       "Graph(num_nodes=6, num_edges=3,\n",
       "      ndata_schemes={}\n",
       "      edata_schemes={})"
      ]
     },
     "execution_count": 107,
     "metadata": {},
     "output_type": "execute_result"
    }
   ],
   "source": [
    "import torch as th\n",
    "import dgl\n",
    "graph_data = {\n",
    "   ('A', 'AP', 'P'): (th.tensor([0, 0, 1, 1, 2, 2, 3]), th.tensor([0, 2, 1, 4, 5, 1, 3])),\n",
    "   ('P', 'PA', 'A'): (th.tensor([0, 2, 1, 4, 5, 1, 3]), th.tensor([0, 0, 1, 1, 2, 2, 3])),\n",
    "   ('A', 'AI', 'I'): (th.tensor([0, 1]), th.tensor([0, 1])),\n",
    "   ('I', 'IA', 'A'): (th.tensor([0, 1]), th.tensor([0, 1])),\n",
    "   ('P', 'PP1', 'P'): (th.tensor([0, 0, 1]), th.tensor([1, 2, 2])),\n",
    "   ('P', 'PP2', 'P'): (th.tensor([1, 2, 2]), th.tensor([0, 0, 1]))\n",
    "}\n",
    "g = dgl.heterograph(graph_data)\n",
    "print(g['PP1'].edges())\n",
    "print(g['PP2'].edges())\n",
    "# print(dgl.metapath_reachable_graph(g, [('A', 'AP', 'P'), ('P', 'PA', 'A')]))\n",
    "# print(g.edge_type_subgraph(['PP2']).edges())\n",
    "g.edge_type_subgraph(['PP2'])\n"
   ]
  },
  {
   "cell_type": "code",
   "execution_count": 41,
   "metadata": {},
   "outputs": [
    {
     "ename": "DGLError",
     "evalue": "Edge type name must be specified if there are more than one edge types.",
     "output_type": "error",
     "traceback": [
      "\u001b[0;31m---------------------------------------------------------------------------\u001b[0m",
      "\u001b[0;31mDGLError\u001b[0m                                  Traceback (most recent call last)",
      "\u001b[0;32m/tmp/ipykernel_1244877/1859104399.py\u001b[0m in \u001b[0;36m<module>\u001b[0;34m\u001b[0m\n\u001b[0;32m----> 1\u001b[0;31m \u001b[0mg\u001b[0m\u001b[0;34m.\u001b[0m\u001b[0min_degrees\u001b[0m\u001b[0;34m(\u001b[0m\u001b[0;34m)\u001b[0m\u001b[0;34m\u001b[0m\u001b[0;34m\u001b[0m\u001b[0m\n\u001b[0m",
      "\u001b[0;32m~/anaconda3/envs/th19cu111/lib/python3.7/site-packages/dgl/heterograph.py\u001b[0m in \u001b[0;36min_degrees\u001b[0;34m(self, v, etype)\u001b[0m\n\u001b[1;32m   3489\u001b[0m         \u001b[0mout_degrees\u001b[0m\u001b[0;34m\u001b[0m\u001b[0;34m\u001b[0m\u001b[0m\n\u001b[1;32m   3490\u001b[0m         \"\"\"\n\u001b[0;32m-> 3491\u001b[0;31m         \u001b[0mdsttype\u001b[0m \u001b[0;34m=\u001b[0m \u001b[0mself\u001b[0m\u001b[0;34m.\u001b[0m\u001b[0mto_canonical_etype\u001b[0m\u001b[0;34m(\u001b[0m\u001b[0metype\u001b[0m\u001b[0;34m)\u001b[0m\u001b[0;34m[\u001b[0m\u001b[0;36m2\u001b[0m\u001b[0;34m]\u001b[0m\u001b[0;34m\u001b[0m\u001b[0;34m\u001b[0m\u001b[0m\n\u001b[0m\u001b[1;32m   3492\u001b[0m         \u001b[0metid\u001b[0m \u001b[0;34m=\u001b[0m \u001b[0mself\u001b[0m\u001b[0;34m.\u001b[0m\u001b[0mget_etype_id\u001b[0m\u001b[0;34m(\u001b[0m\u001b[0metype\u001b[0m\u001b[0;34m)\u001b[0m\u001b[0;34m\u001b[0m\u001b[0;34m\u001b[0m\u001b[0m\n\u001b[1;32m   3493\u001b[0m         \u001b[0;32mif\u001b[0m \u001b[0mis_all\u001b[0m\u001b[0;34m(\u001b[0m\u001b[0mv\u001b[0m\u001b[0;34m)\u001b[0m\u001b[0;34m:\u001b[0m\u001b[0;34m\u001b[0m\u001b[0;34m\u001b[0m\u001b[0m\n",
      "\u001b[0;32m~/anaconda3/envs/th19cu111/lib/python3.7/site-packages/dgl/heterograph.py\u001b[0m in \u001b[0;36mto_canonical_etype\u001b[0;34m(self, etype)\u001b[0m\n\u001b[1;32m   1141\u001b[0m         \u001b[0;32mif\u001b[0m \u001b[0metype\u001b[0m \u001b[0;32mis\u001b[0m \u001b[0;32mNone\u001b[0m\u001b[0;34m:\u001b[0m\u001b[0;34m\u001b[0m\u001b[0;34m\u001b[0m\u001b[0m\n\u001b[1;32m   1142\u001b[0m             \u001b[0;32mif\u001b[0m \u001b[0mlen\u001b[0m\u001b[0;34m(\u001b[0m\u001b[0mself\u001b[0m\u001b[0;34m.\u001b[0m\u001b[0metypes\u001b[0m\u001b[0;34m)\u001b[0m \u001b[0;34m!=\u001b[0m \u001b[0;36m1\u001b[0m\u001b[0;34m:\u001b[0m\u001b[0;34m\u001b[0m\u001b[0;34m\u001b[0m\u001b[0m\n\u001b[0;32m-> 1143\u001b[0;31m                 raise DGLError('Edge type name must be specified if there are more than one '\n\u001b[0m\u001b[1;32m   1144\u001b[0m                                'edge types.')\n\u001b[1;32m   1145\u001b[0m             \u001b[0metype\u001b[0m \u001b[0;34m=\u001b[0m \u001b[0mself\u001b[0m\u001b[0;34m.\u001b[0m\u001b[0metypes\u001b[0m\u001b[0;34m[\u001b[0m\u001b[0;36m0\u001b[0m\u001b[0;34m]\u001b[0m\u001b[0;34m\u001b[0m\u001b[0;34m\u001b[0m\u001b[0m\n",
      "\u001b[0;31mDGLError\u001b[0m: Edge type name must be specified if there are more than one edge types."
     ]
    }
   ],
   "source": [
    "g.in_degrees()"
   ]
  },
  {
   "cell_type": "code",
   "execution_count": 94,
   "metadata": {},
   "outputs": [],
   "source": [
    "import dgl\n",
    "import torch\n",
    "g = dgl.graph((torch.tensor([0,0,1,1,2,3]), torch.tensor([1,2,3,4,4,5])))"
   ]
  },
  {
   "cell_type": "code",
   "execution_count": 99,
   "metadata": {},
   "outputs": [
    {
     "data": {
      "text/plain": [
       "(tensor([1, 2, 3]), tensor([4, 4, 5]))"
      ]
     },
     "execution_count": 99,
     "metadata": {},
     "output_type": "execute_result"
    }
   ],
   "source": [
    "g.in_edges([4,5])"
   ]
  },
  {
   "cell_type": "code",
   "execution_count": 49,
   "metadata": {},
   "outputs": [
    {
     "data": {
      "text/plain": [
       "tensor([[1.0000],\n",
       "        [0.5000],\n",
       "        [0.5000],\n",
       "        [0.5000],\n",
       "        [0.3333],\n",
       "        [0.5000]])"
      ]
     },
     "execution_count": 49,
     "metadata": {},
     "output_type": "execute_result"
    }
   ],
   "source": [
    "(1.0 / (g.in_degrees() + 1)).reshape([-1, 1])"
   ]
  },
  {
   "cell_type": "code",
   "execution_count": 51,
   "metadata": {},
   "outputs": [
    {
     "data": {
      "text/plain": [
       "<bound method DGLHeteroGraph.num_nodes of Graph(num_nodes=6, num_edges=6,\n",
       "      ndata_schemes={}\n",
       "      edata_schemes={})>"
      ]
     },
     "execution_count": 51,
     "metadata": {},
     "output_type": "execute_result"
    }
   ],
   "source": [
    "g.num_nodes"
   ]
  },
  {
   "cell_type": "code",
   "execution_count": 61,
   "metadata": {},
   "outputs": [
    {
     "name": "stdout",
     "output_type": "stream",
     "text": [
      "(1398159,)\n"
     ]
    }
   ],
   "source": [
    "from ogb.lsc import MAG240MDataset\n",
    "import numpy as np\n",
    "dataset = MAG240MDataset(root=\"dataset_path\")\n",
    "node_ids = np.concatenate(\n",
    "        [dataset.get_idx_split(c).astype(np.int64) for c in ['train', 'valid', 'test-whole']]\n",
    "    ) # 有标签的那些papers\n",
    "paper_label = dataset.all_paper_label\n",
    "y_base = paper_label[node_ids]\n",
    "# y_base = y_base[y_base>=0]\n",
    "print(y_base.shape)"
   ]
  },
  {
   "cell_type": "code",
   "execution_count": 63,
   "metadata": {},
   "outputs": [
    {
     "data": {
      "text/plain": [
       "array([17., 29., 38., ..., -1., -1., -1.])"
      ]
     },
     "execution_count": 63,
     "metadata": {},
     "output_type": "execute_result"
    }
   ],
   "source": [
    "y_base"
   ]
  },
  {
   "cell_type": "code",
   "execution_count": 84,
   "metadata": {},
   "outputs": [
    {
     "name": "stdout",
     "output_type": "stream",
     "text": [
      "[2. 4. 6. 7.]\n"
     ]
    }
   ],
   "source": [
    "import numpy as np\n",
    "aa = np.array([-1,-1,0,-1,1,-1,2,3])\n",
    "q = np.array([0,1,2,3])\n",
    "# np.where(aa==q)\n",
    "mask = np.where(aa>=0)\n",
    "rr = np.zeros(4)\n",
    "rr[np.arange(4)] = mask\n",
    "print(rr)"
   ]
  },
  {
   "cell_type": "code",
   "execution_count": 92,
   "metadata": {},
   "outputs": [
    {
     "name": "stdout",
     "output_type": "stream",
     "text": [
      "[-1. -1.  0. -1.  1. -1.  2.  3.]\n"
     ]
    }
   ],
   "source": [
    "aa = aa.astype(\"float32\")\n",
    "print(aa)"
   ]
  },
  {
   "cell_type": "code",
   "execution_count": 106,
   "metadata": {},
   "outputs": [
    {
     "data": {
      "text/plain": [
       "tensor([[2],\n",
       "        [4],\n",
       "        [1],\n",
       "        [3]])"
      ]
     },
     "execution_count": 106,
     "metadata": {},
     "output_type": "execute_result"
    }
   ],
   "source": [
    "import torch\n",
    "aa = torch.tensor([2,4,1,3])\n",
    "aa.unsqueeze(0).T"
   ]
  },
  {
   "cell_type": "code",
   "execution_count": 101,
   "metadata": {},
   "outputs": [
    {
     "name": "stdout",
     "output_type": "stream",
     "text": [
      "1 5\n",
      "2 6\n",
      "3 7\n",
      "4 8\n"
     ]
    }
   ],
   "source": [
    "aa = [1,2,3,4]\n",
    "bb = [5,6,7,8]\n",
    "for x,y in zip(aa,bb):\n",
    "    print(x,y)"
   ]
  },
  {
   "cell_type": "code",
   "execution_count": 108,
   "metadata": {},
   "outputs": [
    {
     "data": {
      "text/plain": [
       "array([], dtype=int64)"
      ]
     },
     "execution_count": 108,
     "metadata": {},
     "output_type": "execute_result"
    }
   ],
   "source": [
    "import numpy as np\n",
    "aa = np.array([10])\n",
    "bb = np.array([False])\n",
    "aa[bb]\n"
   ]
  },
  {
   "cell_type": "code",
   "execution_count": 109,
   "metadata": {},
   "outputs": [
    {
     "data": {
      "text/plain": [
       "10"
      ]
     },
     "execution_count": 109,
     "metadata": {},
     "output_type": "execute_result"
    }
   ],
   "source": [
    "import numpy as np\n",
    "import torch as th\n",
    "aa = np.array([10])\n",
    "bb = th.BoolTensor([False])\n",
    "aa[bb]"
   ]
  },
  {
   "cell_type": "code",
   "execution_count": 110,
   "metadata": {},
   "outputs": [
    {
     "data": {
      "text/plain": [
       "tensor([], dtype=torch.int64)"
      ]
     },
     "execution_count": 110,
     "metadata": {},
     "output_type": "execute_result"
    }
   ],
   "source": [
    "import numpy as np\n",
    "import torch as th\n",
    "aa = th.tensor([10])\n",
    "bb = th.BoolTensor([False])\n",
    "aa[bb]"
   ]
  },
  {
   "cell_type": "code",
   "execution_count": 115,
   "metadata": {},
   "outputs": [
    {
     "data": {
      "text/plain": [
       "array([[1, 3, 5],\n",
       "       [2, 4, 6]])"
      ]
     },
     "execution_count": 115,
     "metadata": {},
     "output_type": "execute_result"
    }
   ],
   "source": [
    "import numpy as np\n",
    "aa = np.array([[1,2],[3,4],[5,6]])\n",
    "aa.T"
   ]
  },
  {
   "cell_type": "code",
   "execution_count": 116,
   "metadata": {},
   "outputs": [
    {
     "data": {
      "text/plain": [
       "[1, 2, 3, 4]"
      ]
     },
     "execution_count": 116,
     "metadata": {},
     "output_type": "execute_result"
    }
   ],
   "source": [
    "list(range(1, 5))"
   ]
  },
  {
   "cell_type": "code",
   "execution_count": 3,
   "metadata": {},
   "outputs": [
    {
     "name": "stdout",
     "output_type": "stream",
     "text": [
      "1 2\n"
     ]
    }
   ],
   "source": [
    "aa = 1\n",
    "bb = aa\n",
    "aa += 1\n",
    "print(bb,aa)"
   ]
  },
  {
   "cell_type": "code",
   "execution_count": 6,
   "metadata": {},
   "outputs": [
    {
     "name": "stdout",
     "output_type": "stream",
     "text": [
      "0 1 2\n",
      "1 3 4\n"
     ]
    }
   ],
   "source": [
    "aa = [1,3]\n",
    "bb = [2,4]\n",
    "for ii,(p,q) in enumerate(zip(aa,bb)):\n",
    "    print(ii,p,q)"
   ]
  },
  {
   "cell_type": "code",
   "execution_count": 2,
   "metadata": {},
   "outputs": [
    {
     "ename": "NameError",
     "evalue": "name 'reduce' is not defined",
     "output_type": "error",
     "traceback": [
      "\u001b[0;31m---------------------------------------------------------------------------\u001b[0m",
      "\u001b[0;31mNameError\u001b[0m                                 Traceback (most recent call last)",
      "\u001b[0;32m/tmp/ipykernel_515420/3930291938.py\u001b[0m in \u001b[0;36m<module>\u001b[0;34m\u001b[0m\n\u001b[1;32m      2\u001b[0m \u001b[0maa\u001b[0m \u001b[0;34m=\u001b[0m \u001b[0mnp\u001b[0m\u001b[0;34m.\u001b[0m\u001b[0marray\u001b[0m\u001b[0;34m(\u001b[0m\u001b[0;34m[\u001b[0m\u001b[0;36m1\u001b[0m\u001b[0;34m,\u001b[0m\u001b[0;36m2\u001b[0m\u001b[0;34m,\u001b[0m\u001b[0;36m3\u001b[0m\u001b[0;34m]\u001b[0m\u001b[0;34m)\u001b[0m\u001b[0;34m\u001b[0m\u001b[0;34m\u001b[0m\u001b[0m\n\u001b[1;32m      3\u001b[0m \u001b[0mbb\u001b[0m \u001b[0;34m=\u001b[0m \u001b[0mnp\u001b[0m\u001b[0;34m.\u001b[0m\u001b[0marray\u001b[0m\u001b[0;34m(\u001b[0m\u001b[0;34m[\u001b[0m\u001b[0;36m1\u001b[0m\u001b[0;34m,\u001b[0m\u001b[0;36m5\u001b[0m\u001b[0;34m,\u001b[0m\u001b[0;36m6\u001b[0m\u001b[0;34m]\u001b[0m\u001b[0;34m)\u001b[0m\u001b[0;34m\u001b[0m\u001b[0;34m\u001b[0m\u001b[0m\n\u001b[0;32m----> 4\u001b[0;31m \u001b[0mreduce\u001b[0m\u001b[0;34m(\u001b[0m\u001b[0mnp\u001b[0m\u001b[0;34m.\u001b[0m\u001b[0mintersect1d\u001b[0m\u001b[0;34m(\u001b[0m\u001b[0maa\u001b[0m\u001b[0;34m,\u001b[0m\u001b[0mbb\u001b[0m\u001b[0;34m)\u001b[0m\u001b[0;34m)\u001b[0m\u001b[0;34m\u001b[0m\u001b[0;34m\u001b[0m\u001b[0m\n\u001b[0m",
      "\u001b[0;31mNameError\u001b[0m: name 'reduce' is not defined"
     ]
    }
   ],
   "source": [
    "import numpy as np\n",
    "aa = np.array([1,2,3])\n",
    "bb = np.array([1,5,6])\n",
    "np.intersect1d(aa,bb)"
   ]
  },
  {
   "cell_type": "code",
   "execution_count": 5,
   "metadata": {},
   "outputs": [
    {
     "name": "stdout",
     "output_type": "stream",
     "text": [
      "(0,)\n"
     ]
    }
   ],
   "source": [
    "from ogb.lsc import MAG240MDataset\n",
    "import numpy\n",
    "dataset = MAG240MDataset(\"dataset_path\")\n",
    "split_nids = dataset.get_idx_split()\n",
    "vv = np.load(\"/data/zhaohuanjing/mag/dataset_path/jax_process/k_fold_splits/valid_idx_0_10.npy\")\n",
    "print(np.intersect1d(vv, split_nids['valid']).shape)"
   ]
  },
  {
   "cell_type": "code",
   "execution_count": 8,
   "metadata": {},
   "outputs": [
    {
     "name": "stdout",
     "output_type": "stream",
     "text": [
      "(138949,)\n",
      "(138949, 153)\n"
     ]
    },
    {
     "data": {
      "text/plain": [
       "0.7955508855767224"
      ]
     },
     "execution_count": 8,
     "metadata": {},
     "output_type": "execute_result"
    }
   ],
   "source": [
    "import numpy as np\n",
    "from ogb.lsc import MAG240MDataset, MAG240MEvaluator\n",
    "aa = np.load(\"/data/zhaohuanjing/mag/dataset_path/mplp_data/feature/x_jax_153.npy\")\n",
    "dataset = MAG240MDataset(\"dataset_path\")\n",
    "split_nids = dataset.get_idx_split()\n",
    "valid_idx = split_nids[\"valid\"]\n",
    "labels = dataset.paper_label\n",
    "y_true = labels[valid_idx]\n",
    "\n",
    "node_ids = np.concatenate([split_nids['train'], split_nids['valid'], split_nids['test-whole']])\n",
    "ids = np.zeros(node_ids.shape[0], dtype=np.bool_)\n",
    "ids[len(split_nids['train']) : len(split_nids['train'])+len(split_nids['valid'])] = True\n",
    "\n",
    "y_pred = aa[ids]\n",
    "print(y_true.shape)\n",
    "print(y_pred.shape)\n",
    "evaluator = MAG240MEvaluator()\n",
    "evaluator.eval(\n",
    "    {'y_true': y_true, 'y_pred': y_pred.argmax(axis=1)}\n",
    ")['acc']\n"
   ]
  },
  {
   "cell_type": "code",
   "execution_count": 5,
   "metadata": {},
   "outputs": [
    {
     "name": "stdout",
     "output_type": "stream",
     "text": [
      "(1112392,)\n",
      "(138949,)\n",
      "(146818,)\n",
      "(88092,)\n",
      "(58726,)\n"
     ]
    }
   ],
   "source": [
    "from ogb.lsc import MAG240MDataset, MAG240MEvaluator\n",
    "dataset = MAG240MDataset(\"dataset_path\")\n",
    "split_nids = dataset.get_idx_split()\n",
    "print(split_nids['train'].shape)\n",
    "print(split_nids['valid'].shape)\n",
    "print(split_nids['test-whole'].shape)\n",
    "print(split_nids['test-dev'].shape)\n",
    "print(split_nids['test-challenge'].shape)"
   ]
  },
  {
   "cell_type": "code",
   "execution_count": 10,
   "metadata": {},
   "outputs": [
    {
     "data": {
      "text/plain": [
       "15"
      ]
     },
     "execution_count": 10,
     "metadata": {},
     "output_type": "execute_result"
    }
   ],
   "source": [
    "rdw = [-0.4877865744749357, -0.346649996233688, -0.37787874613394634, -0.5604140184991806, 0.8799434501215753, 0.46518827818407305, -0.3769751431472341, 0.8269823445831963, -0.1954645260389538, 0.1888043427524997, 0.6469049538984475, -0.2883804174068405, -0.25362940422525115, 0.48079288659829533, 0.8627485259401018]\n",
    "len(rdw)"
   ]
  },
  {
   "cell_type": "code",
   "execution_count": 6,
   "metadata": {},
   "outputs": [
    {
     "data": {
      "text/plain": [
       "'C:/Users/Desktop/lesson/python'"
      ]
     },
     "execution_count": 6,
     "metadata": {},
     "output_type": "execute_result"
    }
   ],
   "source": [
    "path = 'C:/Users/Desktop/lesson/python'\n",
    "path.strip('/')\n",
    "# import os\n",
    "# os.path.basename(path)"
   ]
  },
  {
   "cell_type": "code",
   "execution_count": 17,
   "metadata": {},
   "outputs": [
    {
     "data": {
      "text/plain": [
       "tensor([ True, False,  True, False,  True])"
      ]
     },
     "execution_count": 17,
     "metadata": {},
     "output_type": "execute_result"
    }
   ],
   "source": [
    "import torch\n",
    "aa = torch.zeros(5, dtype=torch.bool)\n",
    "aa[[1,3]] = True\n",
    "~aa"
   ]
  },
  {
   "cell_type": "code",
   "execution_count": 20,
   "metadata": {},
   "outputs": [
    {
     "ename": "TypeError",
     "evalue": "'tuple' object does not support item assignment",
     "output_type": "error",
     "traceback": [
      "\u001b[0;31m---------------------------------------------------------------------------\u001b[0m",
      "\u001b[0;31mTypeError\u001b[0m                                 Traceback (most recent call last)",
      "\u001b[0;32m/tmp/ipykernel_2842437/3992781198.py\u001b[0m in \u001b[0;36m<module>\u001b[0;34m\u001b[0m\n\u001b[1;32m      1\u001b[0m \u001b[0maa\u001b[0m \u001b[0;34m=\u001b[0m \u001b[0;34m(\u001b[0m\u001b[0;36m1\u001b[0m\u001b[0;34m,\u001b[0m\u001b[0;36m2\u001b[0m\u001b[0;34m,\u001b[0m\u001b[0;36m3\u001b[0m\u001b[0;34m)\u001b[0m\u001b[0;34m\u001b[0m\u001b[0;34m\u001b[0m\u001b[0m\n\u001b[0;32m----> 2\u001b[0;31m \u001b[0maa\u001b[0m\u001b[0;34m[\u001b[0m\u001b[0;36m2\u001b[0m\u001b[0;34m]\u001b[0m \u001b[0;34m=\u001b[0m \u001b[0;36m1\u001b[0m\u001b[0;34m\u001b[0m\u001b[0;34m\u001b[0m\u001b[0m\n\u001b[0m\u001b[1;32m      3\u001b[0m \u001b[0maa\u001b[0m\u001b[0;34m\u001b[0m\u001b[0;34m\u001b[0m\u001b[0m\n",
      "\u001b[0;31mTypeError\u001b[0m: 'tuple' object does not support item assignment"
     ]
    }
   ],
   "source": [
    "aa = (1,2,3)\n",
    "aa[2] = 1\n",
    "aa"
   ]
  },
  {
   "cell_type": "code",
   "execution_count": 25,
   "metadata": {},
   "outputs": [
    {
     "data": {
      "text/plain": [
       "dict_keys([1])"
      ]
     },
     "execution_count": 25,
     "metadata": {},
     "output_type": "execute_result"
    }
   ],
   "source": [
    "aa = {1:2}\n",
    "aa.keys()"
   ]
  },
  {
   "cell_type": "code",
   "execution_count": null,
   "metadata": {},
   "outputs": [],
   "source": []
  }
 ],
 "metadata": {
  "kernelspec": {
   "display_name": "Python 3.7.13 ('th19cu111')",
   "language": "python",
   "name": "python3"
  },
  "language_info": {
   "codemirror_mode": {
    "name": "ipython",
    "version": 3
   },
   "file_extension": ".py",
   "mimetype": "text/x-python",
   "name": "python",
   "nbconvert_exporter": "python",
   "pygments_lexer": "ipython3",
   "version": "3.7.13"
  },
  "orig_nbformat": 4,
  "vscode": {
   "interpreter": {
    "hash": "2d3d47019a73baaef74e30db93592898ea9b23ad83fa092ef809a00a269a7241"
   }
  }
 },
 "nbformat": 4,
 "nbformat_minor": 2
}
