{
 "cells": [
  {
   "cell_type": "code",
   "execution_count": 4,
   "metadata": {},
   "outputs": [],
   "source": [
    "import pgl"
   ]
  },
  {
   "cell_type": "code",
   "execution_count": 1,
   "metadata": {},
   "outputs": [
    {
     "name": "stderr",
     "output_type": "stream",
     "text": [
      "/home/zhaohuanjing/anaconda3/envs/th19cu111/lib/python3.7/site-packages/tqdm/auto.py:22: TqdmWarning: IProgress not found. Please update jupyter and ipywidgets. See https://ipywidgets.readthedocs.io/en/stable/user_install.html\n",
      "  from .autonotebook import tqdm as notebook_tqdm\n"
     ]
    },
    {
     "data": {
      "text/plain": [
       "(Data(x=[2708, 1433], edge_index=[2, 10556], y=[2708], train_mask=[2708], val_mask=[2708], test_mask=[2708]),\n",
       " None)"
      ]
     },
     "execution_count": 1,
     "metadata": {},
     "output_type": "execute_result"
    }
   ],
   "source": [
    "import torch\n",
    "torch.load('/data/zhaohuanjing/mag/dataset_path/pyg/planetoid/cora/processed/data.pt')"
   ]
  },
  {
   "cell_type": "code",
   "execution_count": 18,
   "metadata": {},
   "outputs": [
    {
     "data": {
      "text/plain": [
       "tensor([1, 2, 3, 4, 5, 6])"
      ]
     },
     "execution_count": 18,
     "metadata": {},
     "output_type": "execute_result"
    }
   ],
   "source": [
    "from inspect import stack\n",
    "import torch as th\n",
    "aa = th.tensor([[1,2,3],[4,5,6]])\n",
    "aa.flatten()\n",
    "\n",
    "# aa.view(6"
   ]
  },
  {
   "cell_type": "code",
   "execution_count": 2,
   "metadata": {},
   "outputs": [
    {
     "data": {
      "text/plain": [
       "[0, 2, 4, 6, 8]"
      ]
     },
     "execution_count": 2,
     "metadata": {},
     "output_type": "execute_result"
    }
   ],
   "source": [
    "list(range(0,10,2))"
   ]
  },
  {
   "cell_type": "code",
   "execution_count": 3,
   "metadata": {},
   "outputs": [
    {
     "name": "stderr",
     "output_type": "stream",
     "text": [
      "100%|██████████| 5/5 [00:00<00:00, 47021.35it/s]"
     ]
    },
    {
     "name": "stdout",
     "output_type": "stream",
     "text": [
      "0\n",
      "20\n",
      "40\n",
      "60\n",
      "80\n"
     ]
    },
    {
     "name": "stderr",
     "output_type": "stream",
     "text": [
      "\n"
     ]
    }
   ],
   "source": [
    "import tqdm\n",
    "with tqdm.trange(0,100, 20) as tq: #几列几列的取features\n",
    "    for start in tq:\n",
    "        print(start)"
   ]
  },
  {
   "cell_type": "code",
   "execution_count": 1,
   "metadata": {},
   "outputs": [
    {
     "name": "stderr",
     "output_type": "stream",
     "text": [
      "/home/zhaohuanjing/anaconda3/envs/th19cu111/lib/python3.7/site-packages/tqdm/auto.py:22: TqdmWarning: IProgress not found. Please update jupyter and ipywidgets. See https://ipywidgets.readthedocs.io/en/stable/user_install.html\n",
      "  from .autonotebook import tqdm as notebook_tqdm\n"
     ]
    },
    {
     "data": {
      "text/plain": [
       "tensor([0, 1])"
      ]
     },
     "execution_count": 1,
     "metadata": {},
     "output_type": "execute_result"
    }
   ],
   "source": [
    "import torch \n",
    "aa = torch.tensor([-1,0,1,-1,-1])\n",
    "aa[aa>=0]"
   ]
  },
  {
   "cell_type": "code",
   "execution_count": 10,
   "metadata": {},
   "outputs": [
    {
     "name": "stdout",
     "output_type": "stream",
     "text": [
      "tensor([[0, 2],\n",
      "        [0, 2],\n",
      "        [0, 0],\n",
      "        [1, 4],\n",
      "        [1, 1],\n",
      "        [1, 4]])\n",
      "tensor([[0, 2],\n",
      "        [0, 2],\n",
      "        [1, 4],\n",
      "        [1, 4]])\n"
     ]
    }
   ],
   "source": [
    "import torch as th\n",
    "import dgl\n",
    "graph_data = {\n",
    "   ('A', 'AP', 'P'): (th.tensor([0, 0, 1, 1, 2, 2, 3]), th.tensor([0, 2, 1, 4, 5, 1, 3])),\n",
    "   ('P', 'PA', 'A'): (th.tensor([0, 2, 1, 4, 5, 1, 3]), th.tensor([0, 0, 1, 1, 2, 2, 3])),\n",
    "   ('A', 'AI', 'I'): (th.tensor([0, 1]), th.tensor([0, 1])),\n",
    "   ('I', 'IA', 'A'): (th.tensor([0, 1]), th.tensor([0, 1])),\n",
    "   ('P', 'PP1', 'P'): (th.tensor([0, 0, 1]), th.tensor([1, 2, 2])),\n",
    "   ('P', 'PP2', 'P'): (th.tensor([1, 2, 2]), th.tensor([0, 0, 1]))\n",
    "}\n",
    "g = dgl.heterograph(graph_data)\n",
    "traces, _ = dgl.sampling.random_walk(g, [0, 0, 0, 1, 1, 1], metapath=[('A', 'AP', 'P')])\n",
    "print(traces)\n",
    "traces = traces[traces[:, 0] != traces[:, -1]]\n",
    "print(traces)\n",
    "# traces[:, 0] != traces[:, -1]"
   ]
  },
  {
   "cell_type": "code",
   "execution_count": 11,
   "metadata": {},
   "outputs": [
    {
     "data": {
      "text/plain": [
       "(tensor([0, 1, 1]), tensor([0, 1, 2]))"
      ]
     },
     "execution_count": 11,
     "metadata": {},
     "output_type": "execute_result"
    }
   ],
   "source": [
    "g.out_edges([0,1], form='uv', etype=('P', 'PA', 'A'))"
   ]
  },
  {
   "cell_type": "code",
   "execution_count": 15,
   "metadata": {},
   "outputs": [
    {
     "name": "stdout",
     "output_type": "stream",
     "text": [
      "0 2\n",
      "0 2\n",
      "0 2\n",
      "1 4\n",
      "1 4\n"
     ]
    }
   ],
   "source": [
    "for sid, *_, did in traces.numpy():\n",
    "    print(sid, did)"
   ]
  },
  {
   "cell_type": "code",
   "execution_count": 19,
   "metadata": {},
   "outputs": [
    {
     "name": "stdout",
     "output_type": "stream",
     "text": [
      "{1: array([1, 2, 3]), 2: array([4, 5, 6])}\n"
     ]
    }
   ],
   "source": [
    "import numpy as np\n",
    "m = {1:[1,2,3], 2:[4,5,6]}\n",
    "mapper = {i: np.array(j) for i, j in m.items()}\n",
    "print(mapper)"
   ]
  },
  {
   "cell_type": "code",
   "execution_count": 23,
   "metadata": {},
   "outputs": [
    {
     "data": {
      "text/plain": [
       "array([[0., 0., 0., 0.],\n",
       "       [2., 2., 2., 2.]])"
      ]
     },
     "execution_count": 23,
     "metadata": {},
     "output_type": "execute_result"
    }
   ],
   "source": [
    "import numpy as np\n",
    "aa = np.zeros([2,4])\n",
    "aa[1,:] = 2\n",
    "aa"
   ]
  },
  {
   "cell_type": "code",
   "execution_count": 8,
   "metadata": {},
   "outputs": [
    {
     "data": {
      "text/plain": [
       "torch.Size([5, 6])"
      ]
     },
     "execution_count": 8,
     "metadata": {},
     "output_type": "execute_result"
    }
   ],
   "source": [
    "import torch\n",
    "aa = torch.randn((5,2,3))\n",
    "aa.flatten(1,-1).shape"
   ]
  },
  {
   "cell_type": "code",
   "execution_count": 5,
   "metadata": {},
   "outputs": [
    {
     "data": {
      "text/plain": [
       "array([1, 2, 3, 4, 5, 6])"
      ]
     },
     "execution_count": 5,
     "metadata": {},
     "output_type": "execute_result"
    }
   ],
   "source": [
    "import numpy as np\n",
    "aa = np.array([1,2,3])\n",
    "bb = np.array([4,5,6])\n",
    "np.concatenate((aa,bb), axis=0)"
   ]
  },
  {
   "cell_type": "code",
   "execution_count": 7,
   "metadata": {},
   "outputs": [
    {
     "name": "stdout",
     "output_type": "stream",
     "text": [
      "[1, 2, 3]\n"
     ]
    }
   ],
   "source": [
    "def plus(aa):\n",
    "    for ii in range(len(aa)):\n",
    "        bb = aa[ii]\n",
    "        bb+=1\n",
    "    # return aa\n",
    "\n",
    "aa = [1,2,3]\n",
    "\n",
    "plus(aa)\n",
    "print(aa)"
   ]
  },
  {
   "cell_type": "code",
   "execution_count": 22,
   "metadata": {},
   "outputs": [
    {
     "name": "stdout",
     "output_type": "stream",
     "text": [
      "torch.Size([3, 2, 4])\n",
      "tensor([[[1., 2., 3., 4.],\n",
      "         [5., 6., 7., 8.]],\n",
      "\n",
      "        [[1., 2., 3., 4.],\n",
      "         [5., 6., 7., 8.]],\n",
      "\n",
      "        [[1., 2., 3., 4.],\n",
      "         [5., 6., 7., 8.]]])\n",
      "tensor([[ 3.,  6.,  9., 12.],\n",
      "        [15., 18., 21., 24.]])\n"
     ]
    },
    {
     "data": {
      "text/plain": [
       "tensor([[1., 2., 3., 4.],\n",
       "        [5., 6., 7., 8.]])"
      ]
     },
     "execution_count": 22,
     "metadata": {},
     "output_type": "execute_result"
    }
   ],
   "source": [
    "import torch\n",
    "aa = torch.Tensor([[1,2,3,4],[5,6,7,8]])\n",
    "aa = torch.stack([aa,aa,aa],0)\n",
    "\n",
    "print(aa.shape)\n",
    "print(aa)\n",
    "aa = aa.sum(dim=0)\n",
    "print(aa)\n",
    "aa/3"
   ]
  },
  {
   "cell_type": "code",
   "execution_count": 26,
   "metadata": {},
   "outputs": [
    {
     "data": {
      "text/plain": [
       "[1]"
      ]
     },
     "execution_count": 26,
     "metadata": {},
     "output_type": "execute_result"
    }
   ],
   "source": [
    "[1,2,3][:1]"
   ]
  },
  {
   "cell_type": "code",
   "execution_count": null,
   "metadata": {},
   "outputs": [],
   "source": []
  }
 ],
 "metadata": {
  "kernelspec": {
   "display_name": "Python 3.7.13 ('th19cu111')",
   "language": "python",
   "name": "python3"
  },
  "language_info": {
   "codemirror_mode": {
    "name": "ipython",
    "version": 3
   },
   "file_extension": ".py",
   "mimetype": "text/x-python",
   "name": "python",
   "nbconvert_exporter": "python",
   "pygments_lexer": "ipython3",
   "version": "3.7.13"
  },
  "orig_nbformat": 4,
  "vscode": {
   "interpreter": {
    "hash": "2d3d47019a73baaef74e30db93592898ea9b23ad83fa092ef809a00a269a7241"
   }
  }
 },
 "nbformat": 4,
 "nbformat_minor": 2
}
