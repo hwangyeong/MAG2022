{
 "cells": [
  {
   "cell_type": "code",
   "execution_count": 4,
   "metadata": {},
   "outputs": [],
   "source": [
    "import torch"
   ]
  },
  {
   "cell_type": "code",
   "execution_count": 8,
   "metadata": {},
   "outputs": [
    {
     "data": {
      "text/plain": [
       "tensor([1., 2.])"
      ]
     },
     "execution_count": 8,
     "metadata": {},
     "output_type": "execute_result"
    }
   ],
   "source": [
    "cc = torch.Tensor([1,2,3,4,5,6,7])\n",
    "aa = torch.LongTensor([[0,2],[4,5]])\n",
    "cc[aa[0][0]:aa[0][1]]"
   ]
  },
  {
   "cell_type": "code",
   "execution_count": 16,
   "metadata": {},
   "outputs": [
    {
     "data": {
      "text/plain": [
       "tensor([0, 1, 4, 0, 1])"
      ]
     },
     "execution_count": 16,
     "metadata": {},
     "output_type": "execute_result"
    }
   ],
   "source": [
    "aa = torch.arange(0,2)\n",
    "bb = torch.arange(4,5)\n",
    "torch.cat((aa,bb,aa))"
   ]
  },
  {
   "cell_type": "code",
   "execution_count": 29,
   "metadata": {},
   "outputs": [
    {
     "data": {
      "text/plain": [
       "array([1, 5, 2])"
      ]
     },
     "execution_count": 29,
     "metadata": {},
     "output_type": "execute_result"
    }
   ],
   "source": [
    "from curses import flash\n",
    "import numpy as np\n",
    "import random as rd\n",
    "aa = np.array([1,2,3,4,5])\n",
    "np.random.choice(aa, 3, replace=False)"
   ]
  },
  {
   "cell_type": "code",
   "execution_count": 7,
   "metadata": {},
   "outputs": [
    {
     "name": "stdout",
     "output_type": "stream",
     "text": [
      "[0 2 5] [1 2 0 3 4]\n"
     ]
    }
   ],
   "source": [
    "\n",
    "from torch_geometric.data import HeteroData\n",
    "from torch_geometric.utils import subgraph\n",
    "import scipy.sparse as sp\n",
    "import numpy as np\n",
    "data = HeteroData()\n",
    "# ap_edges = torch.LongTensor([[0,1],[0,2],[1,0],[1,3],[1,4]])\n",
    "ap_edges = torch.LongTensor([[0,0,1,1,1],[1,2,0,3,4]])\n",
    "# data['a','writes','p'].edge_index = ap_edges\n",
    "# subgraph(torch.LongTensor([0,1,3,4]), data['a','writes','p'].edge_index)[0]\n",
    "csr = sp.csr_matrix((np.ones(5),(ap_edges[0], ap_edges[1])), shape=(2,5))\n",
    "print(csr.indptr, csr.indices)"
   ]
  },
  {
   "cell_type": "code",
   "execution_count": 2,
   "metadata": {},
   "outputs": [
    {
     "name": "stdout",
     "output_type": "stream",
     "text": [
      "HeteroData(\n",
      "  \u001b[1ma\u001b[0m={ x=[1, 1] },\n",
      "  \u001b[1mp\u001b[0m={ x=[3, 1] },\n",
      "  \u001b[1mv\u001b[0m={ x=[2, 1] },\n",
      "  \u001b[1m(a, writes, p)\u001b[0m={ edge_index=[2, 2] },\n",
      "  \u001b[1m(v, publishes, p)\u001b[0m={ edge_index=[2, 3] }\n",
      ")\n",
      "tensor([[0, 0],\n",
      "        [1, 2]])\n",
      "tensor([[0, 1, 1],\n",
      "        [0, 1, 2]])\n",
      "tensor([[0, 0],\n",
      "        [1, 2]])\n",
      "tensor([[0, 1, 1],\n",
      "        [0, 1, 2]])\n",
      "tensor([[3.],\n",
      "        [4.],\n",
      "        [2.]])\n"
     ]
    }
   ],
   "source": [
    "from torch_geometric.data import HeteroData\n",
    "from torch_geometric.utils import subgraph\n",
    "from torch_geometric.utils import subgraph, bipartite_subgraph\n",
    "import scipy.sparse as sp\n",
    "import numpy as np\n",
    "import torch\n",
    "data = HeteroData()\n",
    "# ap_edges = torch.LongTensor([[0,1],[0,2],[1,0],[1,3],[1,4]])\n",
    "ap_edges = torch.LongTensor([[0,0,1,1,1],[1,2,0,3,4]])\n",
    "vp_edges = torch.LongTensor([[0,0,1,2,1],[0,3,1,2,4]])\n",
    "data['a','writes','p'].edge_index = ap_edges\n",
    "data['v','publishes','p'].edge_index = ap_edges\n",
    "data['a'].x = torch.Tensor([[0],[1]])\n",
    "data['p'].x = torch.Tensor([[0],[1],[2],[3],[4]])\n",
    "data['v'].x = torch.Tensor([[0],[1],[2]])\n",
    "# subgraph(torch.LongTensor([0,1,3,4]), data['a','writes','p'].edge_index)[0]\n",
    "subg = data.subgraph({'a':torch.LongTensor([1]), 'p':torch.LongTensor([3,4,2]), 'v':torch.LongTensor([0,1])})\n",
    "bsybgap, _ = bipartite_subgraph((torch.tensor([1]), torch.tensor([3,4,2])), ap_edges, relabel_nodes=True)\n",
    "bsybgvp, _ = bipartite_subgraph((torch.tensor([0,1]), torch.tensor([3,4,2])), ap_edges, relabel_nodes=True)\n",
    "print(subg)\n",
    "print(subg['a','writes','p']['edge_index'])\n",
    "print(subg['v','publishes','p']['edge_index'])\n",
    "print(bsybgap)\n",
    "print(bsybgvp)\n",
    "# print(subg['a'].x)\n",
    "print(subg['p'].x)\n",
    "# print(subg['v'].x)\n"
   ]
  },
  {
   "cell_type": "code",
   "execution_count": 18,
   "metadata": {},
   "outputs": [
    {
     "name": "stdout",
     "output_type": "stream",
     "text": [
      "HeteroData(\n",
      "  \u001b[1ma\u001b[0m={ x=[1, 1] },\n",
      "  \u001b[1mp\u001b[0m={ x=[3, 1] },\n",
      "  \u001b[1mv\u001b[0m={ x=[2, 1] },\n",
      "  \u001b[1m(a, writes, p)\u001b[0m={ edge_index=[2, 2] },\n",
      "  \u001b[1m(v, publishes, p)\u001b[0m={ edge_index=[2, 3] }\n",
      ")\n",
      "{'edge_index': tensor([[0, 0],\n",
      "        [1, 2]])}\n",
      "{'edge_index': tensor([[0, 1, 1],\n",
      "        [0, 1, 2]])}\n",
      "Data(edge_index=[2, 5], x=[6, 1], node_type=[6], edge_type=[5])\n",
      "DiGraph with 6 nodes and 5 edges\n"
     ]
    }
   ],
   "source": [
    "print(subg)\n",
    "print(subg[('a', 'writes', 'p')])\n",
    "print(subg[('v', 'publishes', 'p')])\n",
    "aa = subg.to_homogeneous()\n",
    "print(aa)\n",
    "from torch_geometric.utils import to_networkx\n",
    "nxg = to_networkx(aa)\n",
    "print(nxg)\n",
    "# print(subg.to_homogeneous())\n",
    "from torch_geometric.utils import subgraph, bipartite_subgraph\n",
    "ap_edges = torch.LongTensor([[0,0,1,1,1],[1,2,0,3,4]])\n",
    "bipartite_subgraph((torch.tensor([1]), torch.tensor([0,3,4])), ap_edges, return_edge_mask=True)"
   ]
  },
  {
   "cell_type": "code",
   "execution_count": 37,
   "metadata": {},
   "outputs": [
    {
     "data": {
      "text/plain": [
       "3"
      ]
     },
     "execution_count": 37,
     "metadata": {},
     "output_type": "execute_result"
    }
   ],
   "source": [
    "subg['p'].x.shape[0]\n"
   ]
  },
  {
   "cell_type": "code",
   "execution_count": 50,
   "metadata": {},
   "outputs": [
    {
     "data": {
      "text/plain": [
       "(tensor([[1],\n",
       "         [4]]),\n",
       " None)"
      ]
     },
     "execution_count": 50,
     "metadata": {},
     "output_type": "execute_result"
    }
   ],
   "source": [
    "ap_edges = torch.LongTensor([[0,0,1,1,1],[1,2,0,3,4]])\n",
    "subgraph(torch.LongTensor([1,4]), ap_edges)"
   ]
  },
  {
   "cell_type": "code",
   "execution_count": 65,
   "metadata": {},
   "outputs": [
    {
     "name": "stdout",
     "output_type": "stream",
     "text": [
      "True\n"
     ]
    },
    {
     "data": {
      "text/plain": [
       "tensor([False, False,  True, False,  True])"
      ]
     },
     "execution_count": 65,
     "metadata": {},
     "output_type": "execute_result"
    }
   ],
   "source": [
    "aa = torch.tensor([False, False,  True, False,  True])\n",
    "bb = torch.tensor([False, False,  True, True,  True])\n",
    "print(isinstance(aa, torch.BoolTensor))\n",
    "aa & bb"
   ]
  },
  {
   "cell_type": "code",
   "execution_count": 48,
   "metadata": {},
   "outputs": [
    {
     "data": {
      "text/plain": [
       "tensor([0, 0, 1, 0, 1])"
      ]
     },
     "execution_count": 48,
     "metadata": {},
     "output_type": "execute_result"
    }
   ],
   "source": [
    "import torch\n",
    "aa = torch.tensor([0, 0, 1, 0, 1])\n",
    "bb = torch.tensor([0, 0, 1, 1 ,1])\n",
    "# print(isinstance(aa, torch.BoolTensor))\n",
    "aa & bb"
   ]
  },
  {
   "cell_type": "code",
   "execution_count": 1,
   "metadata": {},
   "outputs": [],
   "source": [
    "import numpy as np\n",
    "x = np.memmap('/data/zhaohuanjing/mag/dataset_path/mag240m_kddcup2021/full_feat.npy', dtype=np.float16,\n",
    "                      mode='r', shape=(244160499, 768))"
   ]
  },
  {
   "cell_type": "code",
   "execution_count": 4,
   "metadata": {},
   "outputs": [
    {
     "name": "stderr",
     "output_type": "stream",
     "text": [
      "/home/zhaohuanjing/anaconda3/envs/th19cu111/lib/python3.7/site-packages/tqdm/auto.py:22: TqdmWarning: IProgress not found. Please update jupyter and ipywidgets. See https://ipywidgets.readthedocs.io/en/stable/user_install.html\n",
      "  from .autonotebook import tqdm as notebook_tqdm\n",
      "/home/zhaohuanjing/anaconda3/envs/th19cu111/lib/python3.7/site-packages/ipykernel_launcher.py:2: UserWarning: The given NumPy array is not writeable, and PyTorch does not support non-writeable tensors. This means you can write to the underlying (supposedly non-writeable) NumPy array using the tensor. You may want to copy the array to protect its data or make it writeable before converting it to a tensor. This type of warning will be suppressed for the rest of this program. (Triggered internally at  /pytorch/torch/csrc/utils/tensor_numpy.cpp:180.)\n",
      "  \n"
     ]
    }
   ],
   "source": [
    "import torch\n",
    "aa = torch.from_numpy(x)"
   ]
  },
  {
   "cell_type": "code",
   "execution_count": 81,
   "metadata": {},
   "outputs": [
    {
     "name": "stdout",
     "output_type": "stream",
     "text": [
      "2\n",
      "5\n",
      "3\n"
     ]
    }
   ],
   "source": [
    "from torch_geometric.data import HeteroData\n",
    "from torch_geometric.utils import subgraph\n",
    "from torch_geometric.utils import subgraph, bipartite_subgraph\n",
    "import scipy.sparse as sp\n",
    "import numpy as np\n",
    "import torch\n",
    "data = HeteroData()\n",
    "# ap_edges = torch.LongTensor([[0,1],[0,2],[1,0],[1,3],[1,4]])\n",
    "ap_edges = torch.LongTensor([[0,0,1,1,1],[1,2,0,3,4]])\n",
    "vp_edges = torch.LongTensor([[0,0,1,2,1],[0,3,1,2,4]])\n",
    "data['a','writes','p'].edge_index = ap_edges\n",
    "data['v','publishes','p'].edge_index = ap_edges\n",
    "data['a'].x = torch.Tensor([[0],[1]])\n",
    "data['p'].x = torch.Tensor([[0],[1],[2],[3],[4]])\n",
    "data['v'].x = torch.Tensor([[0],[1],[2]])\n",
    "# subgraph(torch.LongTensor([0,1,3,4]), data['a','writes','p'].edge_index)[0]\n",
    "for node_type, store in data._node_store_dict.items():\n",
    "    print(store.num_nodes)"
   ]
  },
  {
   "cell_type": "code",
   "execution_count": 9,
   "metadata": {},
   "outputs": [
    {
     "data": {
      "text/plain": [
       "tensor([[7, 8, 9]])"
      ]
     },
     "execution_count": 9,
     "metadata": {},
     "output_type": "execute_result"
    }
   ],
   "source": [
    "aa = torch.tensor([[1,2,3],[4,5,6],[7,8,9]])\n",
    "aa[2:3]"
   ]
  },
  {
   "cell_type": "code",
   "execution_count": 31,
   "metadata": {},
   "outputs": [
    {
     "name": "stdout",
     "output_type": "stream",
     "text": [
      "tensor([[3],\n",
      "        [5]])\n",
      "tensor([[3],\n",
      "        [5]])\n"
     ]
    }
   ],
   "source": [
    "aa = torch.tensor([[1],[2],[3],[4],[5],[6],[7],[8],[9]])\n",
    "print(aa[torch.tensor([2,4])])\n",
    "print(aa[torch.tensor([False, False, True, False, True, False, False, False, False])])"
   ]
  },
  {
   "cell_type": "code",
   "execution_count": 32,
   "metadata": {},
   "outputs": [],
   "source": [
    "aa = torch.tensor([0,1,2,3])"
   ]
  },
  {
   "cell_type": "code",
   "execution_count": 40,
   "metadata": {},
   "outputs": [
    {
     "data": {
      "text/plain": [
       "array([[1, 2, 3],\n",
       "       [4, 5, 6],\n",
       "       [1, 2, 3],\n",
       "       [4, 5, 6],\n",
       "       [1, 2, 3],\n",
       "       [4, 5, 6]])"
      ]
     },
     "execution_count": 40,
     "metadata": {},
     "output_type": "execute_result"
    }
   ],
   "source": [
    "import numpy as np\n",
    "aa = np.array([[1,2,3],[4,5,6]])\n",
    "np.concatenate((aa,aa,aa), axis=0)\n"
   ]
  },
  {
   "cell_type": "code",
   "execution_count": 16,
   "metadata": {},
   "outputs": [
    {
     "ename": "ModuleNotFoundError",
     "evalue": "No module named 'networkx'",
     "output_type": "error",
     "traceback": [
      "\u001b[0;31m---------------------------------------------------------------------------\u001b[0m",
      "\u001b[0;31mModuleNotFoundError\u001b[0m                       Traceback (most recent call last)",
      "\u001b[0;32m/tmp/ipykernel_3314181/1829148656.py\u001b[0m in \u001b[0;36m<module>\u001b[0;34m\u001b[0m\n\u001b[0;32m----> 1\u001b[0;31m \u001b[0;32mimport\u001b[0m \u001b[0mnetworkx\u001b[0m\u001b[0;34m\u001b[0m\u001b[0;34m\u001b[0m\u001b[0m\n\u001b[0m",
      "\u001b[0;31mModuleNotFoundError\u001b[0m: No module named 'networkx'"
     ]
    }
   ],
   "source": [
    "import networkx"
   ]
  },
  {
   "cell_type": "code",
   "execution_count": 51,
   "metadata": {},
   "outputs": [
    {
     "data": {
      "text/plain": [
       "1"
      ]
     },
     "execution_count": 51,
     "metadata": {},
     "output_type": "execute_result"
    }
   ],
   "source": [
    "import torch as th\n",
    "# aa = th.tensor([1,2,3,2,4,5,2,3])\n",
    "# th.numel(aa[aa<=2])\n",
    "bb = th.tensor([True, False, False])\n",
    "th.numel(bb[bb])"
   ]
  },
  {
   "cell_type": "code",
   "execution_count": 66,
   "metadata": {},
   "outputs": [
    {
     "ename": "TypeError",
     "evalue": "'str' object is not callable",
     "output_type": "error",
     "traceback": [
      "\u001b[0;31m---------------------------------------------------------------------------\u001b[0m",
      "\u001b[0;31mTypeError\u001b[0m                                 Traceback (most recent call last)",
      "\u001b[0;32m/tmp/ipykernel_3314181/654351403.py\u001b[0m in \u001b[0;36m<module>\u001b[0;34m\u001b[0m\n\u001b[1;32m      1\u001b[0m \u001b[0;32mfrom\u001b[0m \u001b[0mtokenize\u001b[0m \u001b[0;32mimport\u001b[0m \u001b[0mDouble3\u001b[0m\u001b[0;34m\u001b[0m\u001b[0;34m\u001b[0m\u001b[0m\n\u001b[1;32m      2\u001b[0m \u001b[0;32mimport\u001b[0m \u001b[0mtorch\u001b[0m \u001b[0;32mas\u001b[0m \u001b[0mth\u001b[0m\u001b[0;34m\u001b[0m\u001b[0;34m\u001b[0m\u001b[0m\n\u001b[0;32m----> 3\u001b[0;31m \u001b[0maa\u001b[0m \u001b[0;34m=\u001b[0m \u001b[0mth\u001b[0m\u001b[0;34m.\u001b[0m\u001b[0mtensor\u001b[0m\u001b[0;34m(\u001b[0m\u001b[0;34m[\u001b[0m\u001b[0mDouble\u001b[0m\u001b[0;34m(\u001b[0m\u001b[0mfloat\u001b[0m\u001b[0;34m(\u001b[0m\u001b[0;34m'nan'\u001b[0m\u001b[0;34m)\u001b[0m\u001b[0;34m)\u001b[0m\u001b[0;34m,\u001b[0m \u001b[0;36m1\u001b[0m\u001b[0;34m,\u001b[0m\u001b[0;36m1\u001b[0m\u001b[0;34m,\u001b[0m\u001b[0;36m2\u001b[0m\u001b[0;34m]\u001b[0m\u001b[0;34m)\u001b[0m\u001b[0;34m\u001b[0m\u001b[0;34m\u001b[0m\u001b[0m\n\u001b[0m\u001b[1;32m      4\u001b[0m \u001b[0maa\u001b[0m \u001b[0;34m=\u001b[0m \u001b[0mth\u001b[0m\u001b[0;34m.\u001b[0m\u001b[0munique\u001b[0m\u001b[0;34m(\u001b[0m\u001b[0maa\u001b[0m\u001b[0;34m)\u001b[0m\u001b[0;34m\u001b[0m\u001b[0;34m\u001b[0m\u001b[0m\n\u001b[1;32m      5\u001b[0m \u001b[0;31m# print(aa)\u001b[0m\u001b[0;34m\u001b[0m\u001b[0;34m\u001b[0m\u001b[0;34m\u001b[0m\u001b[0m\n",
      "\u001b[0;31mTypeError\u001b[0m: 'str' object is not callable"
     ]
    }
   ],
   "source": [
    "from tokenize import Double3\n",
    "import torch as th\n",
    "aa = th.tensor([Double(float('nan')), 1,1,2])\n",
    "aa = th.unique(aa)\n",
    "# print(aa)\n",
    "isinstance(aa, torch.FloatTensor)"
   ]
  },
  {
   "cell_type": "code",
   "execution_count": 74,
   "metadata": {},
   "outputs": [
    {
     "name": "stdout",
     "output_type": "stream",
     "text": [
      "tensor([1, 4])\n"
     ]
    },
    {
     "ename": "TypeError",
     "evalue": "bad operand type for unary ~: 'list'",
     "output_type": "error",
     "traceback": [
      "\u001b[0;31m---------------------------------------------------------------------------\u001b[0m",
      "\u001b[0;31mTypeError\u001b[0m                                 Traceback (most recent call last)",
      "\u001b[0;32m/tmp/ipykernel_3314181/635302248.py\u001b[0m in \u001b[0;36m<module>\u001b[0;34m\u001b[0m\n\u001b[1;32m      3\u001b[0m \u001b[0mbb\u001b[0m \u001b[0;34m=\u001b[0m \u001b[0;34m[\u001b[0m\u001b[0;36m1\u001b[0m\u001b[0;34m,\u001b[0m\u001b[0;36m4\u001b[0m\u001b[0;34m]\u001b[0m\u001b[0;34m\u001b[0m\u001b[0;34m\u001b[0m\u001b[0m\n\u001b[1;32m      4\u001b[0m \u001b[0mprint\u001b[0m\u001b[0;34m(\u001b[0m\u001b[0maa\u001b[0m\u001b[0;34m[\u001b[0m\u001b[0mbb\u001b[0m\u001b[0;34m]\u001b[0m\u001b[0;34m)\u001b[0m\u001b[0;34m\u001b[0m\u001b[0;34m\u001b[0m\u001b[0m\n\u001b[0;32m----> 5\u001b[0;31m \u001b[0mprint\u001b[0m\u001b[0;34m(\u001b[0m\u001b[0maa\u001b[0m\u001b[0;34m[\u001b[0m\u001b[0;34m~\u001b[0m\u001b[0mbb\u001b[0m\u001b[0;34m]\u001b[0m\u001b[0;34m)\u001b[0m\u001b[0;34m\u001b[0m\u001b[0;34m\u001b[0m\u001b[0m\n\u001b[0m",
      "\u001b[0;31mTypeError\u001b[0m: bad operand type for unary ~: 'list'"
     ]
    }
   ],
   "source": [
    "import torch\n",
    "aa = torch.tensor([0,1,2,3,4,5,6])\n",
    "bb = [1,4]\n",
    "print(aa[bb])\n",
    "print(aa[~bb])"
   ]
  },
  {
   "cell_type": "code",
   "execution_count": 75,
   "metadata": {},
   "outputs": [
    {
     "data": {
      "text/plain": [
       "tensor([0, 0, 0, 0, 0, 0, 0, 0, 0, 0])"
      ]
     },
     "execution_count": 75,
     "metadata": {},
     "output_type": "execute_result"
    }
   ],
   "source": [
    "import torch\n",
    "torch.zeros(10, dtype=torch.long)"
   ]
  },
  {
   "cell_type": "code",
   "execution_count": 76,
   "metadata": {},
   "outputs": [
    {
     "data": {
      "text/plain": [
       "array([], dtype=int64)"
      ]
     },
     "execution_count": 76,
     "metadata": {},
     "output_type": "execute_result"
    }
   ],
   "source": [
    "np.array([], dtype=np.int64)"
   ]
  },
  {
   "cell_type": "code",
   "execution_count": 89,
   "metadata": {},
   "outputs": [
    {
     "name": "stdout",
     "output_type": "stream",
     "text": [
      "[tensor([0, 1, 2, 3, 4, 5, 6]), [...], [tensor([2, 3, 4, 5, 6, 7, 8])]]\n",
      "3\n"
     ]
    },
    {
     "data": {
      "text/plain": [
       "[tensor([0, 1, 2, 3, 4, 5, 6]), [...], [tensor([2, 3, 4, 5, 6, 7, 8])]]"
      ]
     },
     "execution_count": 89,
     "metadata": {},
     "output_type": "execute_result"
    }
   ],
   "source": [
    "import torch\n",
    "aa = [torch.tensor([0,1,2,3,4,5,6])]\n",
    "bb = [torch.tensor([2,3,4,5,6,7,8])]\n",
    "aa += [aa,bb]\n",
    "print(aa)\n",
    "print(len(aa))\n",
    "aa[1]"
   ]
  },
  {
   "cell_type": "code",
   "execution_count": 10,
   "metadata": {},
   "outputs": [
    {
     "name": "stdout",
     "output_type": "stream",
     "text": [
      "tensor([[1],\n",
      "        [3],\n",
      "        [0],\n",
      "        [3],\n",
      "        [2]])\n",
      "tensor([[0., 0., 0., 0.],\n",
      "        [0., 0., 0., 0.],\n",
      "        [0., 0., 0., 0.],\n",
      "        [0., 0., 0., 0.],\n",
      "        [0., 0., 0., 0.]])\n",
      "tensor([[0., 1., 0., 0.],\n",
      "        [0., 0., 0., 1.],\n",
      "        [1., 0., 0., 0.],\n",
      "        [0., 0., 0., 1.],\n",
      "        [0., 0., 1., 0.]])\n",
      "tensor([[0., 1., 0., 0., 0., 0., 0., 0., 0., 0.],\n",
      "        [0., 0., 0., 1., 0., 0., 0., 0., 0., 0.],\n",
      "        [1., 0., 0., 0., 0., 0., 0., 0., 0., 0.],\n",
      "        [0., 0., 0., 1., 0., 0., 0., 0., 0., 0.],\n",
      "        [0., 0., 1., 0., 0., 0., 0., 0., 0., 0.]])\n"
     ]
    }
   ],
   "source": [
    "import torch\n",
    "\n",
    "batch_size = 5\n",
    "nb_digits = 10\n",
    "# Dummy input that HAS to be 2D for the scatter (you can use view(-1,1) if needed)\n",
    "y = torch.LongTensor([1,3,0,3,2])\n",
    "y = y.unsqueeze(1)\n",
    "print(y)\n",
    "# One hot encoding buffer that you create out of the loop and just keep reusing\n",
    "# y_onehot = torch.FloatTensor(batch_size, nb_digits)\n",
    "# print(y_onehot)\n",
    "\n",
    "# In your for loop\n",
    "y_onehot = torch.zeros(5, 4)\n",
    "print(y_onehot)\n",
    "y_onehot.scatter_(1, y, 1)\n",
    "print(y_onehot)\n",
    "\n",
    "y_onehot = torch.zeros(batch_size, nb_digits).scatter_(1, y, 1)\n",
    "print(y_onehot)"
   ]
  },
  {
   "cell_type": "code",
   "execution_count": 1,
   "metadata": {},
   "outputs": [
    {
     "name": "stderr",
     "output_type": "stream",
     "text": [
      "/home/zhaohuanjing/anaconda3/envs/th19cu111/lib/python3.7/site-packages/tqdm/auto.py:22: TqdmWarning: IProgress not found. Please update jupyter and ipywidgets. See https://ipywidgets.readthedocs.io/en/stable/user_install.html\n",
      "  from .autonotebook import tqdm as notebook_tqdm\n"
     ]
    }
   ],
   "source": [
    "import torch\n",
    "from torch_sparse import SparseTensor, sample, sample_adj\n",
    "row = torch.tensor([0, 0, 0, 1, 1, 2, 2, 2, 2, 3, 4, 4, 5, 5])\n",
    "col = torch.tensor([1, 2, 3, 0, 2, 0, 1, 4, 5, 0, 2, 5, 2, 4])\n",
    "value = torch.arange(row.size(0))\n",
    "adj_t = SparseTensor(row=row, col=col, value=value, sparse_sizes=(6, 6))"
   ]
  },
  {
   "cell_type": "code",
   "execution_count": 5,
   "metadata": {},
   "outputs": [
    {
     "data": {
      "text/plain": [
       "(tensor([0, 0, 0, 1, 1, 2, 2, 2, 2, 3, 4, 4, 5, 5]),\n",
       " tensor([1, 2, 3, 0, 2, 0, 1, 4, 5, 0, 2, 5, 2, 4]),\n",
       " tensor([ 0,  1,  2,  3,  4,  5,  6,  7,  8,  9, 10, 11, 12, 13]))"
      ]
     },
     "execution_count": 5,
     "metadata": {},
     "output_type": "execute_result"
    }
   ],
   "source": [
    "adj_t.coo()"
   ]
  },
  {
   "cell_type": "code",
   "execution_count": null,
   "metadata": {},
   "outputs": [],
   "source": []
  }
 ],
 "metadata": {
  "kernelspec": {
   "display_name": "Python 3.7.13 ('th19cu111')",
   "language": "python",
   "name": "python3"
  },
  "language_info": {
   "codemirror_mode": {
    "name": "ipython",
    "version": 3
   },
   "file_extension": ".py",
   "mimetype": "text/x-python",
   "name": "python",
   "nbconvert_exporter": "python",
   "pygments_lexer": "ipython3",
   "version": "3.7.13"
  },
  "orig_nbformat": 4,
  "vscode": {
   "interpreter": {
    "hash": "2d3d47019a73baaef74e30db93592898ea9b23ad83fa092ef809a00a269a7241"
   }
  }
 },
 "nbformat": 4,
 "nbformat_minor": 2
}
